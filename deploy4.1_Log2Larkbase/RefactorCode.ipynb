{
 "cells": [
  {
   "cell_type": "markdown",
   "metadata": {},
   "source": [
    "## Refactor Code: \n",
    "```\n",
    "\n",
    "TÁCH THÀNH BACKEND, FRONTEND, MAIN; CODE CHUẨN OOP, SOLID, ... CODE CHUẨN NHA, DỄ MAINTAIN, REFACTOR, ...\n",
    "\n",
    "BẠN NGHĨ XEM: \n",
    "- Nên để thư mục backend, frontend. Trong thư mục này chứa nhiều file .py nhỏ nhỏ, mỗi phải chuẩn code SOLID\n",
    "hay là chỉ để 2 file backend.py, frontend.py thôi? \n",
    "hay có cách nào khác, ...\n",
    "```"
   ]
  }
 ],
 "metadata": {
  "language_info": {
   "name": "python"
  }
 },
 "nbformat": 4,
 "nbformat_minor": 2
}
