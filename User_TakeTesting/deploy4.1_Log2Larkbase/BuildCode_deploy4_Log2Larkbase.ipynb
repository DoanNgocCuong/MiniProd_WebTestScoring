{
 "cells": [
  {
   "cell_type": "markdown",
   "metadata": {},
   "source": [
    "## LOG2LARKBASE"
   ]
  },
  {
   "cell_type": "markdown",
   "metadata": {},
   "source": [
    "**Mong muốn**\n",
    "```\n",
    "@createRecordS_checkTenantAccessToken_funct.py \n",
    "\n",
    "SAU KHI USER LÀM XONG BÀI. BẠN HÃY LOG TOÀN BỘ RECORDS <Dataframe> vào Larkbase sử dụng hàm @createRecordS_checkTenantAccessToken_funct.py \n",
    "\n",
    "các cột như trong dataframe: \t\t\t\t\t\n",
    "user_name\tstt\tquestion_type\tquestion\tuser_answer\tpoint\tassistant_response\ttopics\ttime_start\ttime_end\ttotal_score\tuser_feedback\n",
    "\n",
    "\n",
    "```\n",
    "\n",
    "**Update payload:**\n",
    "```\n",
    "    # Prepare data for Larkbase\n",
    "    records_fields_json = {\n",
    "        \"records\": [\n",
    "            {\n",
    "                \"fields\": {\n",
    "                    \"user_name\": row['user_name'],\n",
    "                    \"stt\": int(row['stt']),\n",
    "                    \"question_type\": row['question_type'],\n",
    "                    \"question\": row['question'],\n",
    "                    \"user_answer\": row['user_answer'],\n",
    "                    \"point\": float(row['point']),\n",
    "                    \"assistant_response\": row['assistant_response'],\n",
    "                    \"topic\": row['topic'],\n",
    "                    \"time_start\": row['time_start'],\n",
    "                    \"time_end\": row['time_end'],\n",
    "                    \"total_score\": float(row['total_score']),\n",
    "                    \"user_feedback\": row['user_feedback']\n",
    "                }\n",
    "            } for _, row in df.iterrows()\n",
    "        ]\n",
    "    }\n",
    "```\n",
    "\n",
    "**Sample JSON to fix bug:**\n",
    "\n",
    "\n",
    "```\n",
    "{\"records\":[{\"fields\":{\"user_name\":\"Cuong\",\"stt\":\"1\"}}, {\"fields\":{\"user_name\":\"Cuong\",\"stt\":\"2\"}}]}\n",
    "\n",
    "{\"records\":[{\"fields\":{\"user_name\":\"Cuong\",\"stt\":1}}, {\"fields\":{\"user_name\":\"Cuong\",\"stt\":2}}]}\n",
    "\n",
    "{'records': [{'fields': {'user_name': 'C', 'stt': 1, 'question_type': 'essay', 'question': '2. Khóa học A1 yêu cầu đầu vào của học viên như thế nào?', 'user_answer': 'A', 'point': 0.0, 'assistant_response': 'Có lỗi xảy ra khi chấm điểm: Connection error.. Vui lòng thử lại.', 'topic': 'Khoá học TOCO', 'time_start': '2024-10-17 15:39:23', 'time_end': '2024-10-17 15:39:35', 'total_score': 0.0, 'user_feedback': 'aaa'}}]}\n",
    "```\n",
    "\n",
    "{\n",
    "  \"code\": 1254060,\n",
    "  \"msg\": \"\",\n",
    "  \"error\": {\n",
    "    \"message\": \"Invalid request parameter: 'records[0].fields.total_score.fieldValue.0.fieldName.total_score'. Correct format : the value of 'Multiline' must be a string. Please check and modify accordingly.\",\n",
    "    \"log_id\": \"202410170843451269455B93D6229FA23E\"\n",
    "  }\n",
    "}\n",
    "**BUG?**: \n",
    "1. Bad Request: do ```'``` => Cần chuyển ```'``` sang ```\"```\n",
    "2. TextFieldConvFail: Bug này liên quan đến: trường này trường kia của Larkbase đang yêu cầu kiểu string, nhưng output log vào lại ở dạng số/ngày tháng năm\n",
    "- Cụ thể các trường : stt, total_score, point, ... log vào ở dạng number nhưng trong Larkbase lại đang set ở dạng String.\n"
   ]
  },
  {
   "cell_type": "markdown",
   "metadata": {},
   "source": [
    "**Lưu trước khi User Finish <chưa cần ấn Submit Feedback>**\n",
    "=> Sau đó, khi user ấn save feedback thì sẽ update feedback vào thông qua ID_record đã lưu. \n",
    "Tuy nhiên ở Version này chúng ta chưa làm. \n"
   ]
  },
  {
   "cell_type": "markdown",
   "metadata": {},
   "source": []
  }
 ],
 "metadata": {
  "language_info": {
   "name": "python"
  }
 },
 "nbformat": 4,
 "nbformat_minor": 2
}
